{
 "cells": [
  {
   "cell_type": "code",
   "execution_count": 8,
   "metadata": {
    "collapsed": true
   },
   "outputs": [],
   "source": [
    "#numpyのインストール\n",
    "import numpy as np\n",
    "#pandasのインストール\n",
    "import pandas as pd\n",
    "import json"
   ]
  },
  {
   "cell_type": "code",
   "execution_count": 9,
   "metadata": {
    "collapsed": true
   },
   "outputs": [],
   "source": [
    "import json #必ず必要\n",
    "var = open('../data_api/data.json' , 'r') \n",
    "var2 = json.load(var)"
   ]
  },
  {
   "cell_type": "code",
   "execution_count": 30,
   "metadata": {
    "collapsed": false
   },
   "outputs": [],
   "source": [
    "df = pd.read_json('../data_api/data.json',orient={'records','columns','values'})"
   ]
  },
  {
   "cell_type": "code",
   "execution_count": 31,
   "metadata": {
    "collapsed": false
   },
   "outputs": [
    {
     "data": {
      "text/html": [
       "<div>\n",
       "<style scoped>\n",
       "    .dataframe tbody tr th:only-of-type {\n",
       "        vertical-align: middle;\n",
       "    }\n",
       "\n",
       "    .dataframe tbody tr th {\n",
       "        vertical-align: top;\n",
       "    }\n",
       "\n",
       "    .dataframe thead th {\n",
       "        text-align: right;\n",
       "    }\n",
       "</style>\n",
       "<table border=\"1\" class=\"dataframe\">\n",
       "  <thead>\n",
       "    <tr style=\"text-align: right;\">\n",
       "      <th></th>\n",
       "      <th>GET_STATS_DATA</th>\n",
       "    </tr>\n",
       "  </thead>\n",
       "  <tbody>\n",
       "    <tr>\n",
       "      <th>PARAMETER</th>\n",
       "      <td>{'LANG': 'E', 'STATS_DATA_ID': '0003143513', '...</td>\n",
       "    </tr>\n",
       "    <tr>\n",
       "      <th>RESULT</th>\n",
       "      <td>{'STATUS': 0, 'ERROR_MSG': 'The process has be...</td>\n",
       "    </tr>\n",
       "    <tr>\n",
       "      <th>STATISTICAL_DATA</th>\n",
       "      <td>{'RESULT_INF': {'TOTAL_NUMBER': 12588833, 'FRO...</td>\n",
       "    </tr>\n",
       "  </tbody>\n",
       "</table>\n",
       "</div>"
      ],
      "text/plain": [
       "                                                     GET_STATS_DATA\n",
       "PARAMETER         {'LANG': 'E', 'STATS_DATA_ID': '0003143513', '...\n",
       "RESULT            {'STATUS': 0, 'ERROR_MSG': 'The process has be...\n",
       "STATISTICAL_DATA  {'RESULT_INF': {'TOTAL_NUMBER': 12588833, 'FRO..."
      ]
     },
     "execution_count": 31,
     "metadata": {},
     "output_type": "execute_result"
    }
   ],
   "source": [
    "df.head()"
   ]
  },
  {
   "cell_type": "code",
   "execution_count": null,
   "metadata": {
    "collapsed": true
   },
   "outputs": [],
   "source": []
  }
 ],
 "metadata": {
  "kernelspec": {
   "display_name": "Python 3",
   "language": "python",
   "name": "python3"
  },
  "language_info": {
   "codemirror_mode": {
    "name": "ipython",
    "version": 3
   },
   "file_extension": ".py",
   "mimetype": "text/x-python",
   "name": "python",
   "nbconvert_exporter": "python",
   "pygments_lexer": "ipython3",
   "version": "3.6.0"
  }
 },
 "nbformat": 4,
 "nbformat_minor": 2
}

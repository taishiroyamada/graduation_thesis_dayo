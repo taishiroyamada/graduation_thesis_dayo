{
 "cells": [
  {
   "cell_type": "code",
   "execution_count": 1,
   "metadata": {
    "collapsed": false
   },
   "outputs": [
    {
     "name": "stderr",
     "output_type": "stream",
     "text": [
      "/Users/Taishi/anaconda/lib/python3.6/site-packages/statsmodels/compat/pandas.py:56: FutureWarning: The pandas.core.datetools module is deprecated and will be removed in a future version. Please use the pandas.tseries module instead.\n",
      "  from pandas.core import datetools\n"
     ]
    }
   ],
   "source": [
    "import numpy as np\n",
    "import pandas as pd\n",
    "import matplotlib.pyplot as plt\n",
    "import seaborn as sns\n",
    "import missingno as msno\n",
    "from statsmodels.tsa.arima_model import ARMA,ARIMA\n",
    "from statsmodels.tsa.statespace.sarimax import SARIMAX\n",
    "from statsmodels.tsa.statespace.varmax import VARMAX\n",
    "from statsmodels.tsa.api import VAR, DynamicVAR\n",
    "from statsmodels.tsa.vector_ar.var_model import VARProcess\n",
    "from sklearn.metrics import mean_squared_error\n",
    "%matplotlib inline\n",
    "sns.set()"
   ]
  },
  {
   "cell_type": "code",
   "execution_count": 2,
   "metadata": {
    "collapsed": false
   },
   "outputs": [],
   "source": [
    "w_data = pd.read_csv('data4.csv',index_col='year',parse_dates=True)"
   ]
  },
  {
   "cell_type": "code",
   "execution_count": 3,
   "metadata": {
    "collapsed": false
   },
   "outputs": [],
   "source": [
    "x_train = w_data.loc[:'2015-12-01']"
   ]
  },
  {
   "cell_type": "code",
   "execution_count": 4,
   "metadata": {
    "collapsed": false
   },
   "outputs": [
    {
     "name": "stderr",
     "output_type": "stream",
     "text": [
      "/Users/Taishi/anaconda/lib/python3.6/site-packages/pandas/util/_decorators.py:118: FutureWarning: The `sheetname` keyword is deprecated, use `sheet_name` instead\n",
      "  return func(*args, **kwargs)\n"
     ]
    }
   ],
   "source": [
    "dat2000 = pd.read_excel('yoko_econ.xlsx',sheetname='2000').T.drop(['平均'],axis=0).reset_index()\n",
    "dat2001 = pd.read_excel('yoko_econ.xlsx',sheetname='2001').T.drop(['平均'],axis=0).reset_index()\n",
    "dat2002 = pd.read_excel('yoko_econ.xlsx',sheetname='2002').T.drop(['平均'],axis=0).reset_index()\n",
    "dat2003 = pd.read_excel('yoko_econ.xlsx',sheetname='2003').T.drop(['平均'],axis=0).reset_index()\n",
    "dat2004 = pd.read_excel('yoko_econ.xlsx',sheetname='2004').T.drop(['平均'],axis=0).reset_index()\n",
    "dat2005 = pd.read_excel('yoko_econ.xlsx',sheetname='2005').T.drop(['平均'],axis=0).reset_index()\n",
    "dat2006 = pd.read_excel('yoko_econ.xlsx',sheetname='2006').T.drop(['平均'],axis=0).reset_index()\n",
    "dat2007 = pd.read_excel('yoko_econ.xlsx',sheetname='2007').T.drop(['平均'],axis=0).reset_index()\n",
    "dat2008 = pd.read_excel('yoko_econ.xlsx',sheetname='2008').T.drop(['平均'],axis=0).reset_index()\n",
    "dat2009 = pd.read_excel('yoko_econ.xlsx',sheetname='2009').T.drop(['平均'],axis=0).reset_index()\n",
    "dat2010 = pd.read_excel('yoko_econ.xlsx',sheetname='2010').T.drop(['平均'],axis=0).reset_index()\n",
    "dat2011 = pd.read_excel('yoko_econ.xlsx',sheetname='2011').T.drop(['平均'],axis=0).reset_index()\n",
    "dat2012 = pd.read_excel('yoko_econ.xlsx',sheetname='2012').T.drop(['平均'],axis=0).reset_index()\n",
    "dat2013 = pd.read_excel('yoko_econ.xlsx',sheetname='2013').T.drop(['平均'],axis=0).reset_index()\n",
    "dat2014 = pd.read_excel('yoko_econ.xlsx',sheetname='2014').T.drop(['平均'],axis=0).reset_index()\n",
    "dat2015 = pd.read_excel('yoko_econ.xlsx',sheetname='2015').T.drop(['平均'],axis=0).reset_index()\n",
    "#dat2016は平均値をもたないよ（）\n",
    "#http://www.city.yokohama.lg.jp/ex/stat/toukeisho/new/index3.html#12 データソース"
   ]
  },
  {
   "cell_type": "code",
   "execution_count": 5,
   "metadata": {
    "collapsed": false
   },
   "outputs": [
    {
     "name": "stderr",
     "output_type": "stream",
     "text": [
      "/Users/Taishi/anaconda/lib/python3.6/site-packages/pandas/util/_decorators.py:118: FutureWarning: The `sheetname` keyword is deprecated, use `sheet_name` instead\n",
      "  return func(*args, **kwargs)\n"
     ]
    }
   ],
   "source": [
    "dat2016 = pd.read_excel('yoko_econ.xlsx',sheetname='2016').T"
   ]
  },
  {
   "cell_type": "code",
   "execution_count": 6,
   "metadata": {
    "collapsed": true
   },
   "outputs": [],
   "source": [
    "dat = pd.concat([dat2000,dat2001,dat2002,dat2003,dat2004,dat2005,dat2006,dat2007,dat2008,dat2009,dat2010,dat2011,dat2012,dat2013,dat2014,dat2015],axis=0).set_index('index')"
   ]
  },
  {
   "cell_type": "code",
   "execution_count": 7,
   "metadata": {
    "collapsed": false
   },
   "outputs": [],
   "source": [
    "tar_data = dat.loc[:,['消費支出']]\n",
    "tar_data.columns = ['consumption']"
   ]
  },
  {
   "cell_type": "code",
   "execution_count": 9,
   "metadata": {
    "collapsed": false
   },
   "outputs": [],
   "source": [
    "var_data = pd.concat([tar_data,x_train],axis=1)"
   ]
  },
  {
   "cell_type": "code",
   "execution_count": 10,
   "metadata": {
    "collapsed": true
   },
   "outputs": [],
   "source": [
    "exp = var_data.loc[:,['avg_temp','rain_sum','sun','consumption']]"
   ]
  },
  {
   "cell_type": "code",
   "execution_count": 11,
   "metadata": {
    "collapsed": false
   },
   "outputs": [],
   "source": [
    "exp.columns = ['temp','precipitation','sunshine','consumption']"
   ]
  },
  {
   "cell_type": "code",
   "execution_count": 13,
   "metadata": {
    "collapsed": false
   },
   "outputs": [],
   "source": [
    "varma = VARMAX(exp)"
   ]
  },
  {
   "cell_type": "code",
   "execution_count": 14,
   "metadata": {
    "collapsed": false
   },
   "outputs": [
    {
     "name": "stderr",
     "output_type": "stream",
     "text": [
      "/Users/Taishi/anaconda/lib/python3.6/site-packages/statsmodels/tsa/vector_ar/var_model.py:461: FutureWarning: `rcond` parameter will change to the default of machine precision times ``max(M, N)`` where M and N are the input matrix dimensions.\n",
      "To use the future default and silence this warning we advise to pass `rcond=None`, to keep using the old, explicitly pass `rcond=-1`.\n",
      "  params = np.linalg.lstsq(z, y_sample)[0]\n",
      "/Users/Taishi/anaconda/lib/python3.6/site-packages/statsmodels/base/model.py:496: ConvergenceWarning: Maximum Likelihood optimization failed to converge. Check mle_retvals\n",
      "  \"Check mle_retvals\", ConvergenceWarning)\n"
     ]
    }
   ],
   "source": [
    "varma_result = varma.fit(maxlags=4, ic='aic')"
   ]
  },
  {
   "cell_type": "code",
   "execution_count": 17,
   "metadata": {
    "collapsed": false
   },
   "outputs": [
    {
     "data": {
      "text/html": [
       "<table class=\"simpletable\">\n",
       "<caption>Statespace Model Results</caption>\n",
       "<tr>\n",
       "  <th>Dep. Variable:</th>   <td>['temp', 'precipitation', 'sunshine', 'consumption']</td> <th>  No. Observations:  </th>    <td>192</td>   \n",
       "</tr>\n",
       "<tr>\n",
       "  <th>Model:</th>                                  <td>VAR(1)</td>                        <th>  Log Likelihood     </th> <td>-4865.384</td>\n",
       "</tr>\n",
       "<tr>\n",
       "  <th></th>                                      <td>+ intercept</td>                     <th>  AIC                </th> <td>9790.767</td> \n",
       "</tr>\n",
       "<tr>\n",
       "  <th>Date:</th>                              <td>Wed, 24 Jan 2018</td>                   <th>  BIC                </th> <td>9888.492</td> \n",
       "</tr>\n",
       "<tr>\n",
       "  <th>Time:</th>                                  <td>03:57:10</td>                       <th>  HQIC               </th> <td>9830.347</td> \n",
       "</tr>\n",
       "<tr>\n",
       "  <th>Sample:</th>                               <td>01-01-2000</td>                      <th>                     </th>     <td> </td>    \n",
       "</tr>\n",
       "<tr>\n",
       "  <th></th>                                     <td>- 12-01-2015</td>                     <th>                     </th>     <td> </td>    \n",
       "</tr>\n",
       "<tr>\n",
       "  <th>Covariance Type:</th>                          <td>opg</td>                         <th>                     </th>     <td> </td>    \n",
       "</tr>\n",
       "</table>\n",
       "<table class=\"simpletable\">\n",
       "<tr>\n",
       "  <th>Ljung-Box (Q):</th>          <td>152.42, 112.42, 137.33, 145.38</td> <th>  Jarque-Bera (JB):  </th> <td>26.88, 16.99, 27.22, 26.61</td>\n",
       "</tr>\n",
       "<tr>\n",
       "  <th>Prob(Q):</th>                    <td>0.00, 0.00, 0.00, 0.00</td>     <th>  Prob(JB):          </th>   <td>0.00, 0.00, 0.00, 0.00</td>  \n",
       "</tr>\n",
       "<tr>\n",
       "  <th>Heteroskedasticity (H):</th>     <td>0.87, 0.94, 0.89, 0.88</td>     <th>  Skew:              </th>  <td>-0.79, 0.64, -0.79, 0.78</td> \n",
       "</tr>\n",
       "<tr>\n",
       "  <th>Prob(H) (two-sided):</th>        <td>0.58, 0.80, 0.64, 0.61</td>     <th>  Kurtosis:          </th>   <td>3.92, 3.69, 3.95, 3.93</td>  \n",
       "</tr>\n",
       "</table>\n",
       "<table class=\"simpletable\">\n",
       "<caption>Results for equation temp</caption>\n",
       "<tr>\n",
       "          <td></td>            <th>coef</th>     <th>std err</th>      <th>z</th>      <th>P>|z|</th>  <th>[0.025</th>    <th>0.975]</th>  \n",
       "</tr>\n",
       "<tr>\n",
       "  <th>const</th>            <td>    0.7559</td> <td>    3.532</td> <td>    0.214</td> <td> 0.831</td> <td>   -6.168</td> <td>    7.679</td>\n",
       "</tr>\n",
       "<tr>\n",
       "  <th>L1.temp</th>          <td>    0.8557</td> <td>    0.069</td> <td>   12.492</td> <td> 0.000</td> <td>    0.721</td> <td>    0.990</td>\n",
       "</tr>\n",
       "<tr>\n",
       "  <th>L1.precipitation</th> <td>   -0.0002</td> <td>    0.004</td> <td>   -0.063</td> <td> 0.950</td> <td>   -0.008</td> <td>    0.007</td>\n",
       "</tr>\n",
       "<tr>\n",
       "  <th>L1.sunshine</th>      <td>    0.0042</td> <td>    0.009</td> <td>    0.484</td> <td> 0.628</td> <td>   -0.013</td> <td>    0.021</td>\n",
       "</tr>\n",
       "<tr>\n",
       "  <th>L1.consumption</th>   <td> 2.634e-06</td> <td> 8.81e-06</td> <td>    0.299</td> <td> 0.765</td> <td>-1.46e-05</td> <td> 1.99e-05</td>\n",
       "</tr>\n",
       "</table>\n",
       "<table class=\"simpletable\">\n",
       "<caption>Results for equation precipitation</caption>\n",
       "<tr>\n",
       "          <td></td>            <th>coef</th>     <th>std err</th>      <th>z</th>      <th>P>|z|</th>  <th>[0.025</th>    <th>0.975]</th>  \n",
       "</tr>\n",
       "<tr>\n",
       "  <th>const</th>            <td>   49.1925</td> <td>    0.076</td> <td>  648.224</td> <td> 0.000</td> <td>   49.044</td> <td>   49.341</td>\n",
       "</tr>\n",
       "<tr>\n",
       "  <th>L1.temp</th>          <td>    6.3046</td> <td>    1.322</td> <td>    4.768</td> <td> 0.000</td> <td>    3.713</td> <td>    8.896</td>\n",
       "</tr>\n",
       "<tr>\n",
       "  <th>L1.precipitation</th> <td>   -0.1433</td> <td>    0.102</td> <td>   -1.408</td> <td> 0.159</td> <td>   -0.343</td> <td>    0.056</td>\n",
       "</tr>\n",
       "<tr>\n",
       "  <th>L1.sunshine</th>      <td>   -0.0378</td> <td>    0.186</td> <td>   -0.203</td> <td> 0.839</td> <td>   -0.403</td> <td>    0.327</td>\n",
       "</tr>\n",
       "<tr>\n",
       "  <th>L1.consumption</th>   <td> 6.894e-05</td> <td>    0.000</td> <td>    0.553</td> <td> 0.580</td> <td>   -0.000</td> <td>    0.000</td>\n",
       "</tr>\n",
       "</table>\n",
       "<table class=\"simpletable\">\n",
       "<caption>Results for equation sunshine</caption>\n",
       "<tr>\n",
       "          <td></td>            <th>coef</th>     <th>std err</th>      <th>z</th>      <th>P>|z|</th>  <th>[0.025</th>    <th>0.975]</th>  \n",
       "</tr>\n",
       "<tr>\n",
       "  <th>const</th>            <td>  120.6482</td> <td>    0.092</td> <td> 1310.873</td> <td> 0.000</td> <td>  120.468</td> <td>  120.829</td>\n",
       "</tr>\n",
       "<tr>\n",
       "  <th>L1.temp</th>          <td>   -0.6645</td> <td>    0.474</td> <td>   -1.402</td> <td> 0.161</td> <td>   -1.593</td> <td>    0.264</td>\n",
       "</tr>\n",
       "<tr>\n",
       "  <th>L1.precipitation</th> <td>    0.0071</td> <td>    0.038</td> <td>    0.189</td> <td> 0.850</td> <td>   -0.067</td> <td>    0.081</td>\n",
       "</tr>\n",
       "<tr>\n",
       "  <th>L1.sunshine</th>      <td>    0.0649</td> <td>    0.081</td> <td>    0.804</td> <td> 0.421</td> <td>   -0.093</td> <td>    0.223</td>\n",
       "</tr>\n",
       "<tr>\n",
       "  <th>L1.consumption</th>   <td>    0.0002</td> <td> 5.01e-05</td> <td>    2.992</td> <td> 0.003</td> <td> 5.18e-05</td> <td>    0.000</td>\n",
       "</tr>\n",
       "</table>\n",
       "<table class=\"simpletable\">\n",
       "<caption>Results for equation consumption</caption>\n",
       "<tr>\n",
       "          <td></td>            <th>coef</th>     <th>std err</th>      <th>z</th>      <th>P>|z|</th>  <th>[0.025</th>    <th>0.975]</th>  \n",
       "</tr>\n",
       "<tr>\n",
       "  <th>const</th>            <td> 3.259e+05</td> <td>    0.000</td> <td> 1.12e+09</td> <td> 0.000</td> <td> 3.26e+05</td> <td> 3.26e+05</td>\n",
       "</tr>\n",
       "<tr>\n",
       "  <th>L1.temp</th>          <td>  -27.8223</td> <td>    0.006</td> <td>-4866.321</td> <td> 0.000</td> <td>  -27.834</td> <td>  -27.811</td>\n",
       "</tr>\n",
       "<tr>\n",
       "  <th>L1.precipitation</th> <td>  -69.5588</td> <td>    0.434</td> <td> -160.458</td> <td> 0.000</td> <td>  -70.408</td> <td>  -68.709</td>\n",
       "</tr>\n",
       "<tr>\n",
       "  <th>L1.sunshine</th>      <td> -242.4698</td> <td>    0.097</td> <td>-2512.007</td> <td> 0.000</td> <td> -242.659</td> <td> -242.281</td>\n",
       "</tr>\n",
       "<tr>\n",
       "  <th>L1.consumption</th>   <td>    0.1481</td> <td>    0.007</td> <td>   21.263</td> <td> 0.000</td> <td>    0.134</td> <td>    0.162</td>\n",
       "</tr>\n",
       "</table>\n",
       "<table class=\"simpletable\">\n",
       "<caption>Error covariance matrix</caption>\n",
       "<tr>\n",
       "                   <td></td>                     <th>coef</th>     <th>std err</th>      <th>z</th>      <th>P>|z|</th>  <th>[0.025</th>    <th>0.975]</th>  \n",
       "</tr>\n",
       "<tr>\n",
       "  <th>sqrt.var.temp</th>                      <td>    3.8148</td> <td>    0.380</td> <td>   10.041</td> <td> 0.000</td> <td>    3.070</td> <td>    4.559</td>\n",
       "</tr>\n",
       "<tr>\n",
       "  <th>sqrt.cov.temp.precipitation</th>        <td>    6.1436</td> <td>    8.412</td> <td>    0.730</td> <td> 0.465</td> <td>  -10.344</td> <td>   22.631</td>\n",
       "</tr>\n",
       "<tr>\n",
       "  <th>sqrt.var.precipitation</th>             <td>   93.2127</td> <td>    4.719</td> <td>   19.751</td> <td> 0.000</td> <td>   83.963</td> <td>  102.463</td>\n",
       "</tr>\n",
       "<tr>\n",
       "  <th>sqrt.cov.temp.sunshine</th>             <td>    9.3063</td> <td>    3.346</td> <td>    2.782</td> <td> 0.005</td> <td>    2.749</td> <td>   15.864</td>\n",
       "</tr>\n",
       "<tr>\n",
       "  <th>sqrt.cov.precipitation.sunshine</th>    <td>  -16.2367</td> <td>    3.524</td> <td>   -4.607</td> <td> 0.000</td> <td>  -23.144</td> <td>   -9.329</td>\n",
       "</tr>\n",
       "<tr>\n",
       "  <th>sqrt.var.sunshine</th>                  <td>   35.3287</td> <td>    2.508</td> <td>   14.085</td> <td> 0.000</td> <td>   30.413</td> <td>   40.245</td>\n",
       "</tr>\n",
       "<tr>\n",
       "  <th>sqrt.cov.temp.consumption</th>          <td> 1269.7248</td> <td>    0.003</td> <td> 4.64e+05</td> <td> 0.000</td> <td> 1269.719</td> <td> 1269.730</td>\n",
       "</tr>\n",
       "<tr>\n",
       "  <th>sqrt.cov.precipitation.consumption</th> <td> -967.2865</td> <td>    0.003</td> <td>-3.63e+05</td> <td> 0.000</td> <td> -967.292</td> <td> -967.281</td>\n",
       "</tr>\n",
       "<tr>\n",
       "  <th>sqrt.cov.sunshine.consumption</th>      <td> 1547.4849</td> <td>    0.002</td> <td> 7.76e+05</td> <td> 0.000</td> <td> 1547.481</td> <td> 1547.489</td>\n",
       "</tr>\n",
       "<tr>\n",
       "  <th>sqrt.var.consumption</th>               <td> 2.861e+04</td> <td>    0.009</td> <td> 3.23e+06</td> <td> 0.000</td> <td> 2.86e+04</td> <td> 2.86e+04</td>\n",
       "</tr>\n",
       "</table>"
      ],
      "text/plain": [
       "<class 'statsmodels.iolib.summary.Summary'>\n",
       "\"\"\"\n",
       "                                            Statespace Model Results                                            \n",
       "================================================================================================================\n",
       "Dep. Variable:     ['temp', 'precipitation', 'sunshine', 'consumption']   No. Observations:                  192\n",
       "Model:                                                           VAR(1)   Log Likelihood               -4865.384\n",
       "                                                            + intercept   AIC                           9790.767\n",
       "Date:                                                  Wed, 24 Jan 2018   BIC                           9888.492\n",
       "Time:                                                          03:57:10   HQIC                          9830.347\n",
       "Sample:                                                      01-01-2000                                         \n",
       "                                                           - 12-01-2015                                         \n",
       "Covariance Type:                                                    opg                                         \n",
       "=======================================================================================================\n",
       "Ljung-Box (Q):          152.42, 112.42, 137.33, 145.38   Jarque-Bera (JB):   26.88, 16.99, 27.22, 26.61\n",
       "Prob(Q):                        0.00, 0.00, 0.00, 0.00   Prob(JB):               0.00, 0.00, 0.00, 0.00\n",
       "Heteroskedasticity (H):         0.87, 0.94, 0.89, 0.88   Skew:                 -0.79, 0.64, -0.79, 0.78\n",
       "Prob(H) (two-sided):            0.58, 0.80, 0.64, 0.61   Kurtosis:               3.92, 3.69, 3.95, 3.93\n",
       "                             Results for equation temp                              \n",
       "====================================================================================\n",
       "                       coef    std err          z      P>|z|      [0.025      0.975]\n",
       "------------------------------------------------------------------------------------\n",
       "const                0.7559      3.532      0.214      0.831      -6.168       7.679\n",
       "L1.temp              0.8557      0.069     12.492      0.000       0.721       0.990\n",
       "L1.precipitation    -0.0002      0.004     -0.063      0.950      -0.008       0.007\n",
       "L1.sunshine          0.0042      0.009      0.484      0.628      -0.013       0.021\n",
       "L1.consumption    2.634e-06   8.81e-06      0.299      0.765   -1.46e-05    1.99e-05\n",
       "                         Results for equation precipitation                         \n",
       "====================================================================================\n",
       "                       coef    std err          z      P>|z|      [0.025      0.975]\n",
       "------------------------------------------------------------------------------------\n",
       "const               49.1925      0.076    648.224      0.000      49.044      49.341\n",
       "L1.temp              6.3046      1.322      4.768      0.000       3.713       8.896\n",
       "L1.precipitation    -0.1433      0.102     -1.408      0.159      -0.343       0.056\n",
       "L1.sunshine         -0.0378      0.186     -0.203      0.839      -0.403       0.327\n",
       "L1.consumption    6.894e-05      0.000      0.553      0.580      -0.000       0.000\n",
       "                           Results for equation sunshine                            \n",
       "====================================================================================\n",
       "                       coef    std err          z      P>|z|      [0.025      0.975]\n",
       "------------------------------------------------------------------------------------\n",
       "const              120.6482      0.092   1310.873      0.000     120.468     120.829\n",
       "L1.temp             -0.6645      0.474     -1.402      0.161      -1.593       0.264\n",
       "L1.precipitation     0.0071      0.038      0.189      0.850      -0.067       0.081\n",
       "L1.sunshine          0.0649      0.081      0.804      0.421      -0.093       0.223\n",
       "L1.consumption       0.0002   5.01e-05      2.992      0.003    5.18e-05       0.000\n",
       "                          Results for equation consumption                          \n",
       "====================================================================================\n",
       "                       coef    std err          z      P>|z|      [0.025      0.975]\n",
       "------------------------------------------------------------------------------------\n",
       "const             3.259e+05      0.000   1.12e+09      0.000    3.26e+05    3.26e+05\n",
       "L1.temp            -27.8223      0.006  -4866.321      0.000     -27.834     -27.811\n",
       "L1.precipitation   -69.5588      0.434   -160.458      0.000     -70.408     -68.709\n",
       "L1.sunshine       -242.4698      0.097  -2512.007      0.000    -242.659    -242.281\n",
       "L1.consumption       0.1481      0.007     21.263      0.000       0.134       0.162\n",
       "                                       Error covariance matrix                                        \n",
       "======================================================================================================\n",
       "                                         coef    std err          z      P>|z|      [0.025      0.975]\n",
       "------------------------------------------------------------------------------------------------------\n",
       "sqrt.var.temp                          3.8148      0.380     10.041      0.000       3.070       4.559\n",
       "sqrt.cov.temp.precipitation            6.1436      8.412      0.730      0.465     -10.344      22.631\n",
       "sqrt.var.precipitation                93.2127      4.719     19.751      0.000      83.963     102.463\n",
       "sqrt.cov.temp.sunshine                 9.3063      3.346      2.782      0.005       2.749      15.864\n",
       "sqrt.cov.precipitation.sunshine      -16.2367      3.524     -4.607      0.000     -23.144      -9.329\n",
       "sqrt.var.sunshine                     35.3287      2.508     14.085      0.000      30.413      40.245\n",
       "sqrt.cov.temp.consumption           1269.7248      0.003   4.64e+05      0.000    1269.719    1269.730\n",
       "sqrt.cov.precipitation.consumption  -967.2865      0.003  -3.63e+05      0.000    -967.292    -967.281\n",
       "sqrt.cov.sunshine.consumption       1547.4849      0.002   7.76e+05      0.000    1547.481    1547.489\n",
       "sqrt.var.consumption                2.861e+04      0.009   3.23e+06      0.000    2.86e+04    2.86e+04\n",
       "======================================================================================================\n",
       "\n",
       "Warnings:\n",
       "[1] Covariance matrix calculated using the outer product of gradients (complex-step).\n",
       "[2] Covariance matrix is singular or near-singular, with condition number 2.31e+23. Standard errors may be unstable.\n",
       "\"\"\""
      ]
     },
     "execution_count": 17,
     "metadata": {},
     "output_type": "execute_result"
    }
   ],
   "source": [
    "varma_result.summary()"
   ]
  },
  {
   "cell_type": "code",
   "execution_count": 67,
   "metadata": {
    "collapsed": false
   },
   "outputs": [],
   "source": [
    "varma_predict = varma_result.predict(start='2000-02-01',end='2016-10-01')"
   ]
  },
  {
   "cell_type": "code",
   "execution_count": 68,
   "metadata": {
    "collapsed": false
   },
   "outputs": [],
   "source": [
    "varma_predict = varma_predict['consumption'].loc['2016-01-01':]"
   ]
  },
  {
   "cell_type": "code",
   "execution_count": 69,
   "metadata": {
    "collapsed": false
   },
   "outputs": [
    {
     "data": {
      "text/plain": [
       "2016-01-01    327678.343841\n",
       "2016-02-01    323415.719563\n",
       "2016-03-01    322932.489021\n",
       "2016-04-01    322865.422739\n",
       "2016-05-01    322737.409536\n",
       "2016-06-01    322598.330563\n",
       "2016-07-01    322477.328127\n",
       "2016-08-01    322375.327795\n",
       "2016-09-01    322288.961068\n",
       "2016-10-01    322215.606720\n",
       "Freq: MS, Name: consumption, dtype: float64"
      ]
     },
     "execution_count": 69,
     "metadata": {},
     "output_type": "execute_result"
    }
   ],
   "source": [
    "varma_predict"
   ]
  },
  {
   "cell_type": "code",
   "execution_count": 70,
   "metadata": {
    "collapsed": false
   },
   "outputs": [
    {
     "data": {
      "text/plain": [
       "[<matplotlib.lines.Line2D at 0x117e05898>]"
      ]
     },
     "execution_count": 70,
     "metadata": {},
     "output_type": "execute_result"
    },
    {
     "data": {
      "image/png": "[encoded data removed]",
      "text/plain": [
       "<matplotlib.figure.Figure at 0x117e055c0>"
      ]
     },
     "metadata": {},
     "output_type": "display_data"
    }
   ],
   "source": [
    "plt.plot(varma_predict)\n",
    "plt.plot(dat2016['消費支出'])"
   ]
  },
  {
   "cell_type": "code",
   "execution_count": 71,
   "metadata": {
    "collapsed": true
   },
   "outputs": [],
   "source": [
    "from math import sqrt\n",
    "from sklearn.metrics import mean_squared_error"
   ]
  },
  {
   "cell_type": "code",
   "execution_count": 72,
   "metadata": {
    "collapsed": false
   },
   "outputs": [
    {
     "name": "stdout",
     "output_type": "stream",
     "text": [
      "40195.94454055124\n"
     ]
    }
   ],
   "source": [
    "print (sqrt(mean_squared_error(dat2016.loc[:'2016-10-01',['消費支出']].values.ravel(),varma_predict.values)))"
   ]
  },
  {
   "cell_type": "code",
   "execution_count": null,
   "metadata": {
    "collapsed": true
   },
   "outputs": [],
   "source": []
  }
 ],
 "metadata": {
  "kernelspec": {
   "display_name": "Python 3",
   "language": "python",
   "name": "python3"
  },
  "language_info": {
   "codemirror_mode": {
    "name": "ipython",
    "version": 3
   },
   "file_extension": ".py",
   "mimetype": "text/x-python",
   "name": "python",
   "nbconvert_exporter": "python",
   "pygments_lexer": "ipython3",
   "version": "3.6.0"
  }
 },
 "nbformat": 4,
 "nbformat_minor": 2
}

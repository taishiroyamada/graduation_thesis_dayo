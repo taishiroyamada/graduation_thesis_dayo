{
 "cells": [
  {
   "cell_type": "code",
   "execution_count": 1,
   "metadata": {
    "collapsed": false
   },
   "outputs": [
    {
     "name": "stderr",
     "output_type": "stream",
     "text": [
      "/Users/Taishi/anaconda/lib/python3.6/site-packages/statsmodels/compat/pandas.py:56: FutureWarning: The pandas.core.datetools module is deprecated and will be removed in a future version. Please use the pandas.tseries module instead.\n",
      "  from pandas.core import datetools\n"
     ]
    }
   ],
   "source": [
    "import numpy as np\n",
    "import pandas as pd\n",
    "import matplotlib.pyplot as plt\n",
    "import seaborn as sns\n",
    "import missingno as msno\n",
    "from statsmodels.tsa.arima_model import ARMA,ARIMA\n",
    "from statsmodels.tsa.statespace.sarimax import SARIMAX\n",
    "from statsmodels.tsa.statespace.varmax import VARMAX\n",
    "from statsmodels.tsa.api import VAR, DynamicVAR\n",
    "from statsmodels.tsa.vector_ar.var_model import VARProcess\n",
    "from sklearn.metrics import mean_squared_error\n",
    "%matplotlib inline\n",
    "sns.set()"
   ]
  },
  {
   "cell_type": "code",
   "execution_count": 2,
   "metadata": {
    "collapsed": false
   },
   "outputs": [],
   "source": [
    "w_data = pd.read_csv('data4.csv',index_col='year',parse_dates=True)"
   ]
  },
  {
   "cell_type": "code",
   "execution_count": 3,
   "metadata": {
    "collapsed": false
   },
   "outputs": [],
   "source": [
    "x_train = w_data.loc[:'2015-12-01']"
   ]
  },
  {
   "cell_type": "code",
   "execution_count": 4,
   "metadata": {
    "collapsed": false
   },
   "outputs": [
    {
     "name": "stderr",
     "output_type": "stream",
     "text": [
      "/Users/Taishi/anaconda/lib/python3.6/site-packages/pandas/util/_decorators.py:118: FutureWarning: The `sheetname` keyword is deprecated, use `sheet_name` instead\n",
      "  return func(*args, **kwargs)\n"
     ]
    }
   ],
   "source": [
    "dat2000 = pd.read_excel('yoko_econ.xlsx',sheetname='2000').T.drop(['平均'],axis=0).reset_index()\n",
    "dat2001 = pd.read_excel('yoko_econ.xlsx',sheetname='2001').T.drop(['平均'],axis=0).reset_index()\n",
    "dat2002 = pd.read_excel('yoko_econ.xlsx',sheetname='2002').T.drop(['平均'],axis=0).reset_index()\n",
    "dat2003 = pd.read_excel('yoko_econ.xlsx',sheetname='2003').T.drop(['平均'],axis=0).reset_index()\n",
    "dat2004 = pd.read_excel('yoko_econ.xlsx',sheetname='2004').T.drop(['平均'],axis=0).reset_index()\n",
    "dat2005 = pd.read_excel('yoko_econ.xlsx',sheetname='2005').T.drop(['平均'],axis=0).reset_index()\n",
    "dat2006 = pd.read_excel('yoko_econ.xlsx',sheetname='2006').T.drop(['平均'],axis=0).reset_index()\n",
    "dat2007 = pd.read_excel('yoko_econ.xlsx',sheetname='2007').T.drop(['平均'],axis=0).reset_index()\n",
    "dat2008 = pd.read_excel('yoko_econ.xlsx',sheetname='2008').T.drop(['平均'],axis=0).reset_index()\n",
    "dat2009 = pd.read_excel('yoko_econ.xlsx',sheetname='2009').T.drop(['平均'],axis=0).reset_index()\n",
    "dat2010 = pd.read_excel('yoko_econ.xlsx',sheetname='2010').T.drop(['平均'],axis=0).reset_index()\n",
    "dat2011 = pd.read_excel('yoko_econ.xlsx',sheetname='2011').T.drop(['平均'],axis=0).reset_index()\n",
    "dat2012 = pd.read_excel('yoko_econ.xlsx',sheetname='2012').T.drop(['平均'],axis=0).reset_index()\n",
    "dat2013 = pd.read_excel('yoko_econ.xlsx',sheetname='2013').T.drop(['平均'],axis=0).reset_index()\n",
    "dat2014 = pd.read_excel('yoko_econ.xlsx',sheetname='2014').T.drop(['平均'],axis=0).reset_index()\n",
    "dat2015 = pd.read_excel('yoko_econ.xlsx',sheetname='2015').T.drop(['平均'],axis=0).reset_index()\n",
    "#dat2016は平均値をもたないよ（）\n",
    "#http://www.city.yokohama.lg.jp/ex/stat/toukeisho/new/index3.html#12 データソース"
   ]
  },
  {
   "cell_type": "code",
   "execution_count": 5,
   "metadata": {
    "collapsed": false
   },
   "outputs": [
    {
     "name": "stderr",
     "output_type": "stream",
     "text": [
      "/Users/Taishi/anaconda/lib/python3.6/site-packages/pandas/util/_decorators.py:118: FutureWarning: The `sheetname` keyword is deprecated, use `sheet_name` instead\n",
      "  return func(*args, **kwargs)\n"
     ]
    }
   ],
   "source": [
    "dat2016 = pd.read_excel('yoko_econ.xlsx',sheetname='2016').T"
   ]
  },
  {
   "cell_type": "code",
   "execution_count": 6,
   "metadata": {
    "collapsed": true
   },
   "outputs": [],
   "source": [
    "dat = pd.concat([dat2000,dat2001,dat2002,dat2003,dat2004,dat2005,dat2006,dat2007,dat2008,dat2009,dat2010,dat2011,dat2012,dat2013,dat2014,dat2015],axis=0).set_index('index')"
   ]
  },
  {
   "cell_type": "code",
   "execution_count": 88,
   "metadata": {
    "collapsed": false
   },
   "outputs": [],
   "source": [
    "tar_data = dat.loc[:,['消費支出']].dropna()\n",
    "tar_data.columns = ['consumption']"
   ]
  },
  {
   "cell_type": "code",
   "execution_count": 9,
   "metadata": {
    "collapsed": false
   },
   "outputs": [],
   "source": [
    "var_data = pd.concat([tar_data,x_train],axis=1)"
   ]
  },
  {
   "cell_type": "code",
   "execution_count": 10,
   "metadata": {
    "collapsed": true
   },
   "outputs": [],
   "source": [
    "exp = var_data.loc[:,['avg_temp','rain_sum','sun','consumption']]"
   ]
  },
  {
   "cell_type": "code",
   "execution_count": 11,
   "metadata": {
    "collapsed": false
   },
   "outputs": [],
   "source": [
    "exp.columns = ['temp','precipitation','sunshine','consumption']"
   ]
  },
  {
   "cell_type": "code",
   "execution_count": 77,
   "metadata": {
    "collapsed": false
   },
   "outputs": [],
   "source": [
    "exp = exp.diff().dropna()"
   ]
  },
  {
   "cell_type": "code",
   "execution_count": 78,
   "metadata": {
    "collapsed": false
   },
   "outputs": [],
   "source": [
    "varma = VARMAX(exp)"
   ]
  },
  {
   "cell_type": "code",
   "execution_count": 79,
   "metadata": {
    "collapsed": false,
    "scrolled": true
   },
   "outputs": [
    {
     "name": "stderr",
     "output_type": "stream",
     "text": [
      "/Users/Taishi/anaconda/lib/python3.6/site-packages/statsmodels/tsa/vector_ar/var_model.py:461: FutureWarning: `rcond` parameter will change to the default of machine precision times ``max(M, N)`` where M and N are the input matrix dimensions.\n",
      "To use the future default and silence this warning we advise to pass `rcond=None`, to keep using the old, explicitly pass `rcond=-1`.\n",
      "  params = np.linalg.lstsq(z, y_sample)[0]\n"
     ]
    }
   ],
   "source": [
    "varma_result = varma.fit(maxlags=12, ic='aic')"
   ]
  },
  {
   "cell_type": "code",
   "execution_count": 80,
   "metadata": {
    "collapsed": false
   },
   "outputs": [
    {
     "data": {
      "text/html": [
       "<table class=\"simpletable\">\n",
       "<caption>Statespace Model Results</caption>\n",
       "<tr>\n",
       "  <th>Dep. Variable:</th>   <td>['temp', 'precipitation', 'sunshine', 'consumption']</td> <th>  No. Observations:  </th>    <td>191</td>   \n",
       "</tr>\n",
       "<tr>\n",
       "  <th>Model:</th>                                  <td>VAR(1)</td>                        <th>  Log Likelihood     </th> <td>-4886.852</td>\n",
       "</tr>\n",
       "<tr>\n",
       "  <th></th>                                      <td>+ intercept</td>                     <th>  AIC                </th> <td>9833.704</td> \n",
       "</tr>\n",
       "<tr>\n",
       "  <th>Date:</th>                              <td>Wed, 24 Jan 2018</td>                   <th>  BIC                </th> <td>9931.272</td> \n",
       "</tr>\n",
       "<tr>\n",
       "  <th>Time:</th>                                  <td>06:24:49</td>                       <th>  HQIC               </th> <td>9873.223</td> \n",
       "</tr>\n",
       "<tr>\n",
       "  <th>Sample:</th>                               <td>02-01-2000</td>                      <th>                     </th>     <td> </td>    \n",
       "</tr>\n",
       "<tr>\n",
       "  <th></th>                                     <td>- 12-01-2015</td>                     <th>                     </th>     <td> </td>    \n",
       "</tr>\n",
       "<tr>\n",
       "  <th>Covariance Type:</th>                          <td>opg</td>                         <th>                     </th>     <td> </td>    \n",
       "</tr>\n",
       "</table>\n",
       "<table class=\"simpletable\">\n",
       "<tr>\n",
       "  <th>Ljung-Box (Q):</th>          <td>345.94, 315.48, 363.53, 368.51</td> <th>  Jarque-Bera (JB):  </th> <td>25.57, 21.62, 23.56, 23.02</td>\n",
       "</tr>\n",
       "<tr>\n",
       "  <th>Prob(Q):</th>                    <td>0.00, 0.00, 0.00, 0.00</td>     <th>  Prob(JB):          </th>   <td>0.00, 0.00, 0.00, 0.00</td>  \n",
       "</tr>\n",
       "<tr>\n",
       "  <th>Heteroskedasticity (H):</th>     <td>1.01, 0.99, 1.00, 0.99</td>     <th>  Skew:              </th>   <td>0.70, 0.66, -0.68, 0.68</td> \n",
       "</tr>\n",
       "<tr>\n",
       "  <th>Prob(H) (two-sided):</th>        <td>0.96, 0.96, 0.99, 0.97</td>     <th>  Kurtosis:          </th>   <td>4.13, 3.99, 4.05, 4.03</td>  \n",
       "</tr>\n",
       "</table>\n",
       "<table class=\"simpletable\">\n",
       "<caption>Results for equation temp</caption>\n",
       "<tr>\n",
       "          <td></td>            <th>coef</th>     <th>std err</th>      <th>z</th>      <th>P>|z|</th>  <th>[0.025</th>    <th>0.975]</th>  \n",
       "</tr>\n",
       "<tr>\n",
       "  <th>const</th>            <td>   -0.0264</td> <td>    0.222</td> <td>   -0.119</td> <td> 0.906</td> <td>   -0.462</td> <td>    0.409</td>\n",
       "</tr>\n",
       "<tr>\n",
       "  <th>L1.temp</th>          <td>    0.7437</td> <td>    0.070</td> <td>   10.648</td> <td> 0.000</td> <td>    0.607</td> <td>    0.881</td>\n",
       "</tr>\n",
       "<tr>\n",
       "  <th>L1.precipitation</th> <td>    0.0015</td> <td>    0.002</td> <td>    0.870</td> <td> 0.384</td> <td>   -0.002</td> <td>    0.005</td>\n",
       "</tr>\n",
       "<tr>\n",
       "  <th>L1.sunshine</th>      <td>   -0.0106</td> <td>    0.004</td> <td>   -2.620</td> <td> 0.009</td> <td>   -0.019</td> <td>   -0.003</td>\n",
       "</tr>\n",
       "<tr>\n",
       "  <th>L1.consumption</th>   <td> 1.003e-06</td> <td> 5.26e-06</td> <td>    0.191</td> <td> 0.849</td> <td> -9.3e-06</td> <td> 1.13e-05</td>\n",
       "</tr>\n",
       "</table>\n",
       "<table class=\"simpletable\">\n",
       "<caption>Results for equation precipitation</caption>\n",
       "<tr>\n",
       "          <td></td>            <th>coef</th>     <th>std err</th>      <th>z</th>      <th>P>|z|</th>  <th>[0.025</th>    <th>0.975]</th>  \n",
       "</tr>\n",
       "<tr>\n",
       "  <th>const</th>            <td>    0.2532</td> <td>   10.710</td> <td>    0.024</td> <td> 0.981</td> <td>  -20.738</td> <td>   21.244</td>\n",
       "</tr>\n",
       "<tr>\n",
       "  <th>L1.temp</th>          <td>    8.4189</td> <td>    2.802</td> <td>    3.004</td> <td> 0.003</td> <td>    2.926</td> <td>   13.912</td>\n",
       "</tr>\n",
       "<tr>\n",
       "  <th>L1.precipitation</th> <td>   -0.5289</td> <td>    0.049</td> <td>  -10.745</td> <td> 0.000</td> <td>   -0.625</td> <td>   -0.432</td>\n",
       "</tr>\n",
       "<tr>\n",
       "  <th>L1.sunshine</th>      <td>   -0.2863</td> <td>    0.207</td> <td>   -1.381</td> <td> 0.167</td> <td>   -0.693</td> <td>    0.120</td>\n",
       "</tr>\n",
       "<tr>\n",
       "  <th>L1.consumption</th>   <td>   -0.0001</td> <td>    0.000</td> <td>   -0.398</td> <td> 0.690</td> <td>   -0.001</td> <td>    0.000</td>\n",
       "</tr>\n",
       "</table>\n",
       "<table class=\"simpletable\">\n",
       "<caption>Results for equation sunshine</caption>\n",
       "<tr>\n",
       "          <td></td>            <th>coef</th>     <th>std err</th>      <th>z</th>      <th>P>|z|</th>  <th>[0.025</th>    <th>0.975]</th>  \n",
       "</tr>\n",
       "<tr>\n",
       "  <th>const</th>            <td>   -0.0383</td> <td>    3.845</td> <td>   -0.010</td> <td> 0.992</td> <td>   -7.574</td> <td>    7.497</td>\n",
       "</tr>\n",
       "<tr>\n",
       "  <th>L1.temp</th>          <td>   -0.7570</td> <td>    1.061</td> <td>   -0.714</td> <td> 0.475</td> <td>   -2.836</td> <td>    1.322</td>\n",
       "</tr>\n",
       "<tr>\n",
       "  <th>L1.precipitation</th> <td>   -0.0038</td> <td>    0.030</td> <td>   -0.127</td> <td> 0.899</td> <td>   -0.063</td> <td>    0.055</td>\n",
       "</tr>\n",
       "<tr>\n",
       "  <th>L1.sunshine</th>      <td>   -0.4231</td> <td>    0.075</td> <td>   -5.667</td> <td> 0.000</td> <td>   -0.569</td> <td>   -0.277</td>\n",
       "</tr>\n",
       "<tr>\n",
       "  <th>L1.consumption</th>   <td>    0.0004</td> <td>    0.000</td> <td>    4.145</td> <td> 0.000</td> <td>    0.000</td> <td>    0.001</td>\n",
       "</tr>\n",
       "</table>\n",
       "<table class=\"simpletable\">\n",
       "<caption>Results for equation consumption</caption>\n",
       "<tr>\n",
       "          <td></td>            <th>coef</th>     <th>std err</th>      <th>z</th>      <th>P>|z|</th>  <th>[0.025</th>    <th>0.975]</th>  \n",
       "</tr>\n",
       "<tr>\n",
       "  <th>const</th>            <td>  126.7351</td> <td>    0.119</td> <td> 1067.093</td> <td> 0.000</td> <td>  126.502</td> <td>  126.968</td>\n",
       "</tr>\n",
       "<tr>\n",
       "  <th>L1.temp</th>          <td>  100.9399</td> <td>    1.449</td> <td>   69.680</td> <td> 0.000</td> <td>   98.101</td> <td>  103.779</td>\n",
       "</tr>\n",
       "<tr>\n",
       "  <th>L1.precipitation</th> <td>  -73.9797</td> <td>   26.048</td> <td>   -2.840</td> <td> 0.005</td> <td> -125.033</td> <td>  -22.927</td>\n",
       "</tr>\n",
       "<tr>\n",
       "  <th>L1.sunshine</th>      <td> -170.5907</td> <td>   57.460</td> <td>   -2.969</td> <td> 0.003</td> <td> -283.210</td> <td>  -57.971</td>\n",
       "</tr>\n",
       "<tr>\n",
       "  <th>L1.consumption</th>   <td>   -0.3439</td> <td>    0.072</td> <td>   -4.766</td> <td> 0.000</td> <td>   -0.485</td> <td>   -0.202</td>\n",
       "</tr>\n",
       "</table>\n",
       "<table class=\"simpletable\">\n",
       "<caption>Error covariance matrix</caption>\n",
       "<tr>\n",
       "                   <td></td>                     <th>coef</th>     <th>std err</th>      <th>z</th>      <th>P>|z|</th>  <th>[0.025</th>    <th>0.975]</th>  \n",
       "</tr>\n",
       "<tr>\n",
       "  <th>sqrt.var.temp</th>                      <td>    2.6605</td> <td>    0.179</td> <td>   14.900</td> <td> 0.000</td> <td>    2.311</td> <td>    3.010</td>\n",
       "</tr>\n",
       "<tr>\n",
       "  <th>sqrt.cov.temp.precipitation</th>        <td>   -8.7537</td> <td>    9.709</td> <td>   -0.902</td> <td> 0.367</td> <td>  -27.782</td> <td>   10.275</td>\n",
       "</tr>\n",
       "<tr>\n",
       "  <th>sqrt.var.precipitation</th>             <td>  119.6675</td> <td>    6.281</td> <td>   19.053</td> <td> 0.000</td> <td>  107.357</td> <td>  131.978</td>\n",
       "</tr>\n",
       "<tr>\n",
       "  <th>sqrt.cov.temp.sunshine</th>             <td>   15.0222</td> <td>    3.748</td> <td>    4.008</td> <td> 0.000</td> <td>    7.676</td> <td>   22.369</td>\n",
       "</tr>\n",
       "<tr>\n",
       "  <th>sqrt.cov.precipitation.sunshine</th>    <td>  -20.3169</td> <td>    3.667</td> <td>   -5.541</td> <td> 0.000</td> <td>  -27.503</td> <td>  -13.131</td>\n",
       "</tr>\n",
       "<tr>\n",
       "  <th>sqrt.var.sunshine</th>                  <td>   40.6794</td> <td>    2.264</td> <td>   17.965</td> <td> 0.000</td> <td>   36.241</td> <td>   45.118</td>\n",
       "</tr>\n",
       "<tr>\n",
       "  <th>sqrt.cov.temp.consumption</th>          <td> 2057.1463</td> <td>    0.100</td> <td> 2.06e+04</td> <td> 0.000</td> <td> 2056.951</td> <td> 2057.342</td>\n",
       "</tr>\n",
       "<tr>\n",
       "  <th>sqrt.cov.precipitation.consumption</th> <td>-4677.7996</td> <td>    0.028</td> <td>-1.64e+05</td> <td> 0.000</td> <td>-4677.855</td> <td>-4677.744</td>\n",
       "</tr>\n",
       "<tr>\n",
       "  <th>sqrt.cov.sunshine.consumption</th>      <td> 6773.8520</td> <td>    0.006</td> <td> 1.19e+06</td> <td> 0.000</td> <td> 6773.841</td> <td> 6773.863</td>\n",
       "</tr>\n",
       "<tr>\n",
       "  <th>sqrt.var.consumption</th>               <td> 3.462e+04</td> <td>    0.606</td> <td> 5.71e+04</td> <td> 0.000</td> <td> 3.46e+04</td> <td> 3.46e+04</td>\n",
       "</tr>\n",
       "</table>"
      ],
      "text/plain": [
       "<class 'statsmodels.iolib.summary.Summary'>\n",
       "\"\"\"\n",
       "                                            Statespace Model Results                                            \n",
       "================================================================================================================\n",
       "Dep. Variable:     ['temp', 'precipitation', 'sunshine', 'consumption']   No. Observations:                  191\n",
       "Model:                                                           VAR(1)   Log Likelihood               -4886.852\n",
       "                                                            + intercept   AIC                           9833.704\n",
       "Date:                                                  Wed, 24 Jan 2018   BIC                           9931.272\n",
       "Time:                                                          06:24:49   HQIC                          9873.223\n",
       "Sample:                                                      02-01-2000                                         \n",
       "                                                           - 12-01-2015                                         \n",
       "Covariance Type:                                                    opg                                         \n",
       "=======================================================================================================\n",
       "Ljung-Box (Q):          345.94, 315.48, 363.53, 368.51   Jarque-Bera (JB):   25.57, 21.62, 23.56, 23.02\n",
       "Prob(Q):                        0.00, 0.00, 0.00, 0.00   Prob(JB):               0.00, 0.00, 0.00, 0.00\n",
       "Heteroskedasticity (H):         1.01, 0.99, 1.00, 0.99   Skew:                  0.70, 0.66, -0.68, 0.68\n",
       "Prob(H) (two-sided):            0.96, 0.96, 0.99, 0.97   Kurtosis:               4.13, 3.99, 4.05, 4.03\n",
       "                             Results for equation temp                              \n",
       "====================================================================================\n",
       "                       coef    std err          z      P>|z|      [0.025      0.975]\n",
       "------------------------------------------------------------------------------------\n",
       "const               -0.0264      0.222     -0.119      0.906      -0.462       0.409\n",
       "L1.temp              0.7437      0.070     10.648      0.000       0.607       0.881\n",
       "L1.precipitation     0.0015      0.002      0.870      0.384      -0.002       0.005\n",
       "L1.sunshine         -0.0106      0.004     -2.620      0.009      -0.019      -0.003\n",
       "L1.consumption    1.003e-06   5.26e-06      0.191      0.849    -9.3e-06    1.13e-05\n",
       "                         Results for equation precipitation                         \n",
       "====================================================================================\n",
       "                       coef    std err          z      P>|z|      [0.025      0.975]\n",
       "------------------------------------------------------------------------------------\n",
       "const                0.2532     10.710      0.024      0.981     -20.738      21.244\n",
       "L1.temp              8.4189      2.802      3.004      0.003       2.926      13.912\n",
       "L1.precipitation    -0.5289      0.049    -10.745      0.000      -0.625      -0.432\n",
       "L1.sunshine         -0.2863      0.207     -1.381      0.167      -0.693       0.120\n",
       "L1.consumption      -0.0001      0.000     -0.398      0.690      -0.001       0.000\n",
       "                           Results for equation sunshine                            \n",
       "====================================================================================\n",
       "                       coef    std err          z      P>|z|      [0.025      0.975]\n",
       "------------------------------------------------------------------------------------\n",
       "const               -0.0383      3.845     -0.010      0.992      -7.574       7.497\n",
       "L1.temp             -0.7570      1.061     -0.714      0.475      -2.836       1.322\n",
       "L1.precipitation    -0.0038      0.030     -0.127      0.899      -0.063       0.055\n",
       "L1.sunshine         -0.4231      0.075     -5.667      0.000      -0.569      -0.277\n",
       "L1.consumption       0.0004      0.000      4.145      0.000       0.000       0.001\n",
       "                          Results for equation consumption                          \n",
       "====================================================================================\n",
       "                       coef    std err          z      P>|z|      [0.025      0.975]\n",
       "------------------------------------------------------------------------------------\n",
       "const              126.7351      0.119   1067.093      0.000     126.502     126.968\n",
       "L1.temp            100.9399      1.449     69.680      0.000      98.101     103.779\n",
       "L1.precipitation   -73.9797     26.048     -2.840      0.005    -125.033     -22.927\n",
       "L1.sunshine       -170.5907     57.460     -2.969      0.003    -283.210     -57.971\n",
       "L1.consumption      -0.3439      0.072     -4.766      0.000      -0.485      -0.202\n",
       "                                       Error covariance matrix                                        \n",
       "======================================================================================================\n",
       "                                         coef    std err          z      P>|z|      [0.025      0.975]\n",
       "------------------------------------------------------------------------------------------------------\n",
       "sqrt.var.temp                          2.6605      0.179     14.900      0.000       2.311       3.010\n",
       "sqrt.cov.temp.precipitation           -8.7537      9.709     -0.902      0.367     -27.782      10.275\n",
       "sqrt.var.precipitation               119.6675      6.281     19.053      0.000     107.357     131.978\n",
       "sqrt.cov.temp.sunshine                15.0222      3.748      4.008      0.000       7.676      22.369\n",
       "sqrt.cov.precipitation.sunshine      -20.3169      3.667     -5.541      0.000     -27.503     -13.131\n",
       "sqrt.var.sunshine                     40.6794      2.264     17.965      0.000      36.241      45.118\n",
       "sqrt.cov.temp.consumption           2057.1463      0.100   2.06e+04      0.000    2056.951    2057.342\n",
       "sqrt.cov.precipitation.consumption -4677.7996      0.028  -1.64e+05      0.000   -4677.855   -4677.744\n",
       "sqrt.cov.sunshine.consumption       6773.8520      0.006   1.19e+06      0.000    6773.841    6773.863\n",
       "sqrt.var.consumption                3.462e+04      0.606   5.71e+04      0.000    3.46e+04    3.46e+04\n",
       "======================================================================================================\n",
       "\n",
       "Warnings:\n",
       "[1] Covariance matrix calculated using the outer product of gradients (complex-step).\n",
       "[2] Covariance matrix is singular or near-singular, with condition number 4.79e+23. Standard errors may be unstable.\n",
       "\"\"\""
      ]
     },
     "execution_count": 80,
     "metadata": {},
     "output_type": "execute_result"
    }
   ],
   "source": [
    "varma_result.summary()"
   ]
  },
  {
   "cell_type": "code",
   "execution_count": 81,
   "metadata": {
    "collapsed": false
   },
   "outputs": [],
   "source": [
    "varma_predict = varma_result.predict(start='2000-02-01',end='2016-10-01')"
   ]
  },
  {
   "cell_type": "code",
   "execution_count": 82,
   "metadata": {
    "collapsed": false
   },
   "outputs": [],
   "source": [
    "varma_predict = varma_predict['consumption'].loc['2016-01-01':]"
   ]
  },
  {
   "cell_type": "code",
   "execution_count": 91,
   "metadata": {
    "collapsed": false
   },
   "outputs": [],
   "source": [
    "hoge = dat2016['消費支出'].dropna()"
   ]
  },
  {
   "cell_type": "code",
   "execution_count": 94,
   "metadata": {
    "collapsed": false
   },
   "outputs": [],
   "source": [
    "y = tar_data['2015-12-01':'2015-12-01']"
   ]
  },
  {
   "cell_type": "code",
   "execution_count": 85,
   "metadata": {
    "collapsed": false
   },
   "outputs": [
    {
     "data": {
      "text/plain": [
       "[<matplotlib.lines.Line2D at 0x1180afba8>]"
      ]
     },
     "execution_count": 85,
     "metadata": {},
     "output_type": "execute_result"
    },
    {
     "data": {
      "image/png": "[encoded data removed]",
      "text/plain": [
       "<matplotlib.figure.Figure at 0x117fcaa20>"
      ]
     },
     "metadata": {},
     "output_type": "display_data"
    }
   ],
   "source": [
    "plt.plot(varma_predict)"
   ]
  },
  {
   "cell_type": "code",
   "execution_count": null,
   "metadata": {
    "collapsed": true
   },
   "outputs": [],
   "source": []
  },
  {
   "cell_type": "code",
   "execution_count": 71,
   "metadata": {
    "collapsed": true
   },
   "outputs": [],
   "source": [
    "from math import sqrt\n",
    "from sklearn.metrics import mean_squared_error"
   ]
  },
  {
   "cell_type": "code",
   "execution_count": 72,
   "metadata": {
    "collapsed": false
   },
   "outputs": [
    {
     "name": "stdout",
     "output_type": "stream",
     "text": [
      "40195.94454055124\n"
     ]
    }
   ],
   "source": [
    "print (sqrt(mean_squared_error(dat2016.loc[:'2016-10-01',['消費支出']].values.ravel(),varma_predict.values)))"
   ]
  },
  {
   "cell_type": "code",
   "execution_count": null,
   "metadata": {
    "collapsed": true
   },
   "outputs": [],
   "source": []
  }
 ],
 "metadata": {
  "kernelspec": {
   "display_name": "Python 3",
   "language": "python",
   "name": "python3"
  },
  "language_info": {
   "codemirror_mode": {
    "name": "ipython",
    "version": 3
   },
   "file_extension": ".py",
   "mimetype": "text/x-python",
   "name": "python",
   "nbconvert_exporter": "python",
   "pygments_lexer": "ipython3",
   "version": "3.6.0"
  }
 },
 "nbformat": 4,
 "nbformat_minor": 2
}
